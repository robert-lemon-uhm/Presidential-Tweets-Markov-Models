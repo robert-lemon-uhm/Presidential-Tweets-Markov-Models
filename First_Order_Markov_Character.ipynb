{
  "nbformat": 4,
  "nbformat_minor": 0,
  "metadata": {
    "colab": {
      "name": "First Order Markov Character.ipynb",
      "provenance": [],
      "collapsed_sections": [
        "27IYM7sfyF4h",
        "LSYzPKXkx9Xp"
      ],
      "authorship_tag": "ABX9TyNO/V7vDL2GvXLbDNWMOMa1",
      "include_colab_link": true
    },
    "kernelspec": {
      "name": "python3",
      "display_name": "Python 3"
    }
  },
  "cells": [
    {
      "cell_type": "markdown",
      "metadata": {
        "id": "view-in-github",
        "colab_type": "text"
      },
      "source": [
        "<a href=\"https://colab.research.google.com/github/robert-lemon-uhm/Presidential-Tweets-Markov-Models/blob/main/First_Order_Markov_Character.ipynb\" target=\"_parent\"><img src=\"https://colab.research.google.com/assets/colab-badge.svg\" alt=\"Open In Colab\"/></a>"
      ]
    },
    {
      "cell_type": "markdown",
      "metadata": {
        "id": "27IYM7sfyF4h"
      },
      "source": [
        "## First Order Character Markov Model Code"
      ]
    },
    {
      "cell_type": "code",
      "metadata": {
        "id": "DSwIFllSmCTX"
      },
      "source": [
        "# Download tweets.\n",
        "import numpy as np\n",
        "import random\n",
        "import pickle\n",
        "import cloudpickle as cp\n",
        "from urllib.request import urlopen\n",
        "lst_donald_trump_tweets = cp.load(urlopen(\"https://raw.githubusercontent.com/gomachinelearning/Blogs/master/DonaldTrumpTweets.pickle\"))\n",
        "lst_joe_biden_tweets = cp.load(urlopen(\"https://raw.githubusercontent.com/gomachinelearning/Blogs/master/JoeBidenTweets.pickle\"))"
      ],
      "execution_count": null,
      "outputs": []
    },
    {
      "cell_type": "markdown",
      "metadata": {
        "id": "FapB6VMM6BDN"
      },
      "source": [
        "**MODEL NOTES**\n",
        "\n",
        "*   This model has a token vocabulary of 27 printable characters and 3 sentinal characters.\n",
        "\n",
        "*   The 'Fit' method initializes the internal transition matrix to all 1s, updates the count as it processes the data set, then normalizes each row so the row's probabilities sum to 1.  Before the normalization, rows or columns with impossible values (i.e., transitioning *to* a start token) were zeroed out.  This was done to ensure the closest possible probabilities for the rest of the transitions."
      ]
    },
    {
      "cell_type": "code",
      "metadata": {
        "id": "7I-NmneDeRJv"
      },
      "source": [
        "class char_ngram():\n",
        "  def __init__(self):\n",
        "    '''Initialize vocabulary and parameters of model.'''\n",
        "    # Special tokens: ^==start, $==stop.\n",
        "    self.tokens = '^$ abcdefghijklmnopqrstuvwxyz'\n",
        "    # Create map from token to index (integer).\n",
        "    self.token_idx = dict([(t,i) for (i,t) in enumerate(self.tokens)]) \n",
        "    # Initialize matrix of transition probabilities to uniform distribution.\n",
        "    self.n = len(self.tokens)\n",
        "    self.transitions = np.ones((self.n,self.n), dtype='float')\n",
        "    return\n",
        "\n",
        "  def fit(self, data):\n",
        "    '''\n",
        "    Learn transition probabilities from data.\n",
        "    Input:\n",
        "        data = list of strings to train on.\n",
        "    Output:\n",
        "        none\n",
        "    '''\n",
        "    # re-initialize matrix\n",
        "    self.transitions = np.ones((self.n,self.n), dtype='float')\n",
        "    # build transitons matrix\n",
        "    for string in data:\n",
        "      tokenString = self.tokenize(string)\n",
        "      i = 0\n",
        "      while (tokenString[i] != '$'):\n",
        "        self.transitions[self.token_idx[tokenString[i]], self.token_idx[tokenString[i+1]]] += 1\n",
        "        i += 1\n",
        "    # replace the start/stop boundary with 0\n",
        "    for row in self.transitions:\n",
        "      row[self.token_idx['^']] = 0\n",
        "    self.transitions[self.token_idx['$']][:] = 0\n",
        "    # divide by total transitions to get probability\n",
        "    for i in range(len(self.transitions)):\n",
        "      if (np.sum(self.transitions[i:i+1,:]) != 0):\n",
        "        self.transitions[i:i+1,:] /= np.sum(self.transitions[i:i+1,:])\n",
        "    return\n",
        "\n",
        "  def generate(self, prompt=None):\n",
        "    '''\n",
        "    Generate a random string of length N starting from prompt.\n",
        "      Input:\n",
        "        prompt (optional): a string that should begin the tweet, e.g. 'covid'. \n",
        "    Returns:\n",
        "        tweet = A fake tweet (string).\n",
        "    '''\n",
        "    # initialize tweet\n",
        "    tweet = ['^']\n",
        "    length = 1\n",
        "    # start tweet with prompt (optional)\n",
        "    if (prompt):\n",
        "      chars = list(prompt)\n",
        "      chars = chars[:280]\n",
        "      for ch in chars:\n",
        "        tweet.append(ch)\n",
        "        length += 1\n",
        "    # generate remainder of tweet\n",
        "    while (length < 281 and tweet[length - 1] != '$'):\n",
        "      prevCh = tweet[length - 1]\n",
        "      nextCh = self.randCatSample(self.transitions[self.token_idx[prevCh],:])\n",
        "      tweet.append(self.tokens[nextCh])\n",
        "      length += 1\n",
        "    # remove start and stop tokens from new tweet\n",
        "    if (tweet[length - 1] == '$'):\n",
        "      tweet.remove('$')\n",
        "      length -= 1\n",
        "    tweet.remove('^')\n",
        "    length -= 1\n",
        "    # return tweet as string\n",
        "    return ''.join(tweet)\n",
        "\n",
        "  @staticmethod\n",
        "  def randCatSample(probs):\n",
        "    '''\n",
        "    A simple utility function that randomly \n",
        "    samples from a categorical distribution\n",
        "    Input:\n",
        "        array of probabilities\n",
        "    Output:\n",
        "        index of random sample\n",
        "    '''\n",
        "    # sample from a categorical random dist\n",
        "    rand = random.random()\n",
        "    sum = 0\n",
        "    for i in range(len(probs)):\n",
        "      sum += probs[i]\n",
        "      if (sum > rand):\n",
        "        return i\n",
        "\n",
        "  def tokenize(self, string):\n",
        "    '''\n",
        "    A simple character tokenization:\n",
        "    1) Leading and ending spaces are removed.\n",
        "    2) All letters converted to lowercase.\n",
        "    3) All characters other than a-z and space are ignored.\n",
        "    Input:\n",
        "        string\n",
        "    Returns: \n",
        "        tokens = list of characters (python strings of length 1).\n",
        "    '''\n",
        "    tokens = []\n",
        "    sanitized = string.lower().strip().replace('^','').replace('$','')\n",
        "    for char in sanitized:\n",
        "      if char in self.tokens:\n",
        "        tokens.append(char)\n",
        "    # Add start and stop tokens.\n",
        "    tokens = ['^'] + tokens + ['$']\n",
        "    return tokens\n",
        "\n",
        "  def evaluate(self, data):\n",
        "    '''\n",
        "    Calculate the mean log probability of the character transitions.\n",
        "    We use mean because then we have a fair comparison between two sequences\n",
        "    of different lengths.\n",
        "    Input:\n",
        "        data = string or list of strings to train on.\n",
        "    Returns:\n",
        "        mean_logp = (float) average of the log2 probability of the transitions in the data.\n",
        "    '''\n",
        "    if type(data) is str:\n",
        "      data = [data] # Interpret as list of length 1.\n",
        "    logp_sum = 0\n",
        "    count = 0\n",
        "    for string in data:\n",
        "      s = self.tokenize(string)\n",
        "      for c1,c2 in zip(s[:-1], s[1:]):\n",
        "        p = self.transitions[self.token_idx[c1], self.token_idx[c2]]\n",
        "        if p == 0:\n",
        "          raise Exception('The model things this sequence is impossible'\n",
        "                          '! Regularize the transition probabilities.')\n",
        "        logp_sum += np.log2(p) \n",
        "        count += 1\n",
        "    mean_logp = logp_sum / count\n",
        "    return mean_logp\n",
        "\n",
        "  def tokenizedLen(self, string):\n",
        "    '''\n",
        "    Utility function to return the amount of valid\n",
        "    characters in a string (minus start and stop)\n",
        "    '''\n",
        "    return len(self.tokenize(string)) - 2"
      ],
      "execution_count": null,
      "outputs": []
    },
    {
      "cell_type": "markdown",
      "metadata": {
        "id": "h1vKqL8Tx5nh"
      },
      "source": [
        "## Part 1: Generating Random Tweets"
      ]
    },
    {
      "cell_type": "markdown",
      "metadata": {
        "id": "cXkKuC1d3ZIR"
      },
      "source": [
        "In general, the first order character model was not effective in generating tweets.  A couple short words would be formed in the generated tweets, but nothing over a handful of characters, and there were very few proper words in each tweet.  Linguistic patterns such as \"th\" and \"ed\" often occured, however.  There was a slight emergence of a pattern between candidates, too: tweets generated from the Biden model were often longer than those generate from the Trump model.  While this definitely seems to be a learned pattern, that is the only pattern throughout the generated tweets between the two candidates."
      ]
    },
    {
      "cell_type": "markdown",
      "metadata": {
        "id": "XK1ooycS4fz-"
      },
      "source": [
        "*Sample Tweets:*\n",
        "\n",
        "\n",
        "*   **TRUMP:**  for banis cr on owiorin t ousan bucofana baidy fat e uanend tseallek c a avis am ha e\n",
        "\n",
        "*   **TRUMP:**  rsuthtcy ha tteind railllenowon\n",
        "\n",
        "     =====\n",
        "\n",
        "*   **BIDEN:**  eru trouthtike sure al vittton dengrayytcoaso whe bglatope tte ake do tilor f ol trurd ad e haninal ctr f ve oct orse angheary wed atthde of tps d trn llpes fes h jxen ity inesinndribl atps id ticorbeme e wanyouthamaps ond wifurnd whe m a outome mabajuthim iongn fo n ehrachet inh\n",
        "\n",
        "*   **BIDEN:**  t we igo onayos iceron trke woriseatovendeakerst tofere ch hemevesrs eswve hthoronoupsttoarwatoindanerotcarstouemicte ill cane os pre in o amzse fere e trdesthad lemero onodelbe oupps uty\n",
        "\n"
      ]
    },
    {
      "cell_type": "code",
      "metadata": {
        "id": "oHRoQu9yrFqG"
      },
      "source": [
        "# Train models on full dataset\n",
        "TRUMP1 = char_ngram()\n",
        "TRUMP1.fit(lst_donald_trump_tweets)\n",
        "\n",
        "BIDEN1 = char_ngram()\n",
        "BIDEN1.fit(lst_joe_biden_tweets)"
      ],
      "execution_count": null,
      "outputs": []
    },
    {
      "cell_type": "code",
      "metadata": {
        "id": "94zL-Z_0BCrE"
      },
      "source": [
        "# Generate and print random tweets\n",
        "newTweetTrump = TRUMP1.generate(\"\")\n",
        "newTweetBiden = BIDEN1.generate(\"\")\n",
        "print(\"TRUMP: \", newTweetTrump)\n",
        "print(\"BIDEN: \", newTweetBiden)"
      ],
      "execution_count": null,
      "outputs": []
    },
    {
      "cell_type": "markdown",
      "metadata": {
        "id": "LSYzPKXkx9Xp"
      },
      "source": [
        "## Part 2: Evaluating Real Tweets"
      ]
    },
    {
      "cell_type": "markdown",
      "metadata": {
        "id": "supa6Cbr5ZOY"
      },
      "source": [
        "Despite this model not being able to generate coherent tweets for each candidate, it was able to successfully label tweets that the candidates actually posted.  It has an average AUROC of around 94% (see ROC graph at the bottom).  These results were based off of around 2,000 training tweets per candidate, with around 1,000 held-out test tweets to evaluate the models on."
      ]
    },
    {
      "cell_type": "code",
      "metadata": {
        "id": "cO1IaQRO1yxw"
      },
      "source": [
        "import random\n",
        "from sklearn import metrics\n",
        "import matplotlib.pyplot as plt"
      ],
      "execution_count": null,
      "outputs": []
    },
    {
      "cell_type": "code",
      "metadata": {
        "id": "1lDB8wBhzD7C"
      },
      "source": [
        "# Permute data\n",
        "randomTrumpTweets = lst_donald_trump_tweets\n",
        "randomBidenTweets = lst_joe_biden_tweets\n",
        "random.shuffle(randomTrumpTweets)\n",
        "random.shuffle(randomBidenTweets)\n",
        "\n",
        "# Split data into training and testing sets\n",
        "dataSplit = 0.66\n",
        "\n",
        "trumpLen = int(len(randomTrumpTweets) * dataSplit)\n",
        "trumpTrain = randomTrumpTweets[:trumpLen]\n",
        "trumpTest = randomTrumpTweets[trumpLen:]\n",
        "\n",
        "bidenLen = int(len(randomBidenTweets) * dataSplit)\n",
        "bidenTrain = randomBidenTweets[:bidenLen]\n",
        "bidenTest = randomBidenTweets[bidenLen:]"
      ],
      "execution_count": null,
      "outputs": []
    },
    {
      "cell_type": "code",
      "metadata": {
        "id": "BlEtMko-69uO"
      },
      "source": [
        "# Train models on training sets\n",
        "TRUMP2 = char_ngram()\n",
        "TRUMP2.fit(trumpTrain)\n",
        "\n",
        "BIDEN2 = char_ngram()\n",
        "BIDEN2.fit(bidenTrain)"
      ],
      "execution_count": null,
      "outputs": []
    },
    {
      "cell_type": "code",
      "metadata": {
        "id": "MKxXPPzi-EFd"
      },
      "source": [
        "# Evaluate Trump's tweets using both models\n",
        "trumpTestTRUMP = np.zeros((len(trumpTest)), dtype=float)\n",
        "trumpTestBIDEN = np.zeros((len(trumpTest)), dtype=float)\n",
        "for i in range(len(trumpTest)):\n",
        "  n = TRUMP2.tokenizedLen(trumpTest[i])\n",
        "  trumpTestTRUMP[i] = TRUMP2.evaluate(trumpTest[i]) * n\n",
        "  trumpTestBIDEN[i] = BIDEN2.evaluate(trumpTest[i]) * n\n",
        "\n",
        "# Evaluate Biden's tweets using both models\n",
        "bidenTestTRUMP = np.zeros((len(bidenTest)), dtype=float)\n",
        "bidenTestBIDEN = np.zeros((len(bidenTest)), dtype=float)\n",
        "for i in range(len(bidenTest)):\n",
        "  n = BIDEN2.tokenizedLen(bidenTest[i])\n",
        "  bidenTestTRUMP[i] = TRUMP2.evaluate(bidenTest[i]) * n\n",
        "  bidenTestBIDEN[i] = BIDEN2.evaluate(bidenTest[i]) * n"
      ],
      "execution_count": null,
      "outputs": []
    },
    {
      "cell_type": "code",
      "metadata": {
        "id": "UOJ5ALn66Bir"
      },
      "source": [
        "def bayesProb(trumpLogP, bidenLogP):\n",
        "  '''\n",
        "  This utility function applies the bayes rule to the\n",
        "  log probabilities generated from the 'evaluate' function.\n",
        "  Input:\n",
        "      trumpLogP is the (non-mean) log prob from TRUMP2.evaluate\n",
        "      bidenLogP is the (non-mean) log prob from BIDEN2.evaluate\n",
        "  Output:\n",
        "      Bayes probability that **Biden** posted the given tweet\n",
        "  '''\n",
        "  output = 1 + 2**(trumpLogP - bidenLogP)\n",
        "  output = 1 / output\n",
        "  return output"
      ],
      "execution_count": null,
      "outputs": []
    },
    {
      "cell_type": "code",
      "metadata": {
        "id": "aLrvNy6g8GGc"
      },
      "source": [
        "# Build probability matrix for Biden's tweets\n",
        "bidenTestProbs = np.zeros((len(bidenTest)))\n",
        "for i in range(len(bidenTest)):\n",
        "  bidenTestProbs[i] = bayesProb(bidenTestTRUMP[i], bidenTestBIDEN[i])\n",
        "\n",
        "# Build probability matrix for Trump's tweets\n",
        "trumpTestProbs = np.zeros((len(trumpTest)))\n",
        "for i in range(len(trumpTest)):\n",
        "  trumpTestProbs[i] = bayesProb(trumpTestTRUMP[i], trumpTestBIDEN[i])"
      ],
      "execution_count": null,
      "outputs": []
    },
    {
      "cell_type": "code",
      "metadata": {
        "id": "0jR-3GSi-TP-",
        "outputId": "b04e309a-02c4-4486-985c-069a6f7877e1",
        "colab": {
          "base_uri": "https://localhost:8080/",
          "height": 312
        }
      },
      "source": [
        "# Create a list of all tweet probabilities and values\n",
        "y_true = np.concatenate((np.ones(len(bidenTest)), np.zeros(len(trumpTest))))\n",
        "y_scores = np.concatenate((bidenTestProbs, trumpTestProbs))\n",
        "\n",
        "# Plot the ROC for Biden's tweets\n",
        "fpr, tpr, thresholds = metrics.roc_curve(y_true, y_scores)\n",
        "plt.plot(fpr, tpr)\n",
        "plt.plot([0, 1], [0, 1], color='red', linestyle='--') # random guessing\n",
        "plt.xlim([0.0, 1.0])\n",
        "plt.ylim([0.0, 1.0])\n",
        "plt.xlabel(\"False Positive Rate\")\n",
        "plt.ylabel(\"True Positive Rate\")\n",
        "plt.title(\"Presidential Candidate Tweet Prediction ROC\")\n",
        "\n",
        "AUROC = metrics.roc_auc_score(y_true, y_scores)\n",
        "print(\"AUROC: \", AUROC)"
      ],
      "execution_count": null,
      "outputs": [
        {
          "output_type": "stream",
          "text": [
            "AUROC:  0.9419520181421638\n"
          ],
          "name": "stdout"
        },
        {
          "output_type": "display_data",
          "data": {
            "image/png": "[encoded data removed]",
            "text/plain": [
              "<Figure size 432x288 with 1 Axes>"
            ]
          },
          "metadata": {
            "tags": [],
            "needs_background": "light"
          }
        }
      ]
    }
  ]
}