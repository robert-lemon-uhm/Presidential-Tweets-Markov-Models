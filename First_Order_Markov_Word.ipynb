{
  "nbformat": 4,
  "nbformat_minor": 0,
  "metadata": {
    "colab": {
      "name": "First Order Markov Word.ipynb",
      "provenance": [],
      "collapsed_sections": [
        "FeMuCBsViJjl",
        "x4aT8y6Inxm7"
      ],
      "authorship_tag": "ABX9TyO4myFMGXLYexnWyDtO7FG6",
      "include_colab_link": true
    },
    "kernelspec": {
      "name": "python3",
      "display_name": "Python 3"
    }
  },
  "cells": [
    {
      "cell_type": "markdown",
      "metadata": {
        "id": "view-in-github",
        "colab_type": "text"
      },
      "source": [
        "<a href=\"https://colab.research.google.com/github/robert-lemon-uhm/Presidential-Tweets-Markov-Models/blob/main/First_Order_Markov_Word.ipynb\" target=\"_parent\"><img src=\"https://colab.research.google.com/assets/colab-badge.svg\" alt=\"Open In Colab\"/></a>"
      ]
    },
    {
      "cell_type": "markdown",
      "metadata": {
        "id": "FeMuCBsViJjl"
      },
      "source": [
        "## First Order Word Markov Model Code"
      ]
    },
    {
      "cell_type": "code",
      "metadata": {
        "id": "I8ue5m4dl1nD"
      },
      "source": [
        "# Requires extra packages.\n",
        "!pip install tqdm boto3 requests regex sentencepiece sacremoses\n",
        "!pip install tokenizers\n",
        "import pickle\n",
        "import cloudpickle as cp\n",
        "from urllib.request import urlopen\n",
        "import torch\n",
        "#Downloads a tokenizer that will automatically convert words to indices in a big dictionary.\n",
        "tokenizer = torch.hub.load('huggingface/pytorch-transformers', 'tokenizer', 'bert-base-uncased')   \n",
        "# Download tweets.\n",
        "lst_donald_trump_tweets = cp.load(urlopen(\"https://raw.githubusercontent.com/gomachinelearning/Blogs/master/DonaldTrumpTweets.pickle\"))\n",
        "lst_joe_biden_tweets = cp.load(urlopen(\"https://raw.githubusercontent.com/gomachinelearning/Blogs/master/JoeBidenTweets.pickle\"))"
      ],
      "execution_count": null,
      "outputs": []
    },
    {
      "cell_type": "code",
      "metadata": {
        "id": "yvkLu4Ygeqw4"
      },
      "source": [
        "# Example. \n",
        "print('Here are the start and stop tokens: ', tokenizer.encode(''))\n",
        "print('Here are the start and stop tokens decoded: ', tokenizer.decode(tokenizer.encode('')))\n",
        "# Example 2.\n",
        "EXAMPLEtweet = \"Sorry losers and haters, but my I.Q. is one of the highest\"\n",
        "indexed_tokens = tokenizer.encode(EXAMPLEtweet, add_special_tokens=True) \n",
        "print('Example encoded tweet: ', indexed_tokens)\n",
        "print('Example dencoded tweet: ', tokenizer.decode(indexed_tokens, skip_special_tokens=True))"
      ],
      "execution_count": null,
      "outputs": []
    },
    {
      "cell_type": "markdown",
      "metadata": {
        "id": "-NJwan2E7hfN"
      },
      "source": [
        "**MODEL NOTES**\n",
        "\n",
        "*   This model uses a dictionary of 30,522 possible words and symbols.\n",
        "\n",
        "*   In the 'Generate' method, the word \"the\" is inserted whenever the model comes across a word that has no learned transitions.  This could be improved by selecting a word from the zeroth order model.\n",
        "\n",
        "*   In the 'Evaluate' method, it is assumed that any transition that has not been learned  has a probability of 0.0000001%.  This is needed in order to prevent log(0) from occurring."
      ]
    },
    {
      "cell_type": "code",
      "metadata": {
        "id": "cCHCPwhcer5s"
      },
      "source": [
        "import numpy as np\n",
        "from scipy.sparse import csr_matrix, lil_matrix\n",
        "from sklearn.preprocessing import normalize\n",
        "\n",
        "class word_ngram():\n",
        "    def __init__(self):\n",
        "        self.tokenizer = torch.hub.load('huggingface/pytorch-transformers', 'tokenizer', 'bert-base-uncased')    # Download vocabulary from S3 and cache.\n",
        "        print('Model initialized with vocab size: ', self.tokenizer.vocab_size) # 30522\n",
        "        return\n",
        "\n",
        "    def fit(self, data):\n",
        "        '''\n",
        "        Learn transition probabilities from data.\n",
        "        Input:\n",
        "            data = list of strings to train on.\n",
        "        Output:\n",
        "            none\n",
        "        '''\n",
        "        # Tokenize data\n",
        "        tokenData = []\n",
        "        for tweet in data:\n",
        "          tokenTweet = self.tokenizer.encode(tweet, add_special_tokens=True)\n",
        "          tokenData.append(tokenTweet)\n",
        "        # Create transition matrix as sparse matrix to save memory.\n",
        "        n = self.tokenizer.vocab_size\n",
        "        self.transitions = lil_matrix((n,n), dtype=np.float)\n",
        "        # Build transition matrix\n",
        "        for tokenString in tokenData:\n",
        "          i = 0\n",
        "          while (tokenString[i] != 102):\n",
        "            self.transitions[tokenString[i],tokenString[i+1]] += 1\n",
        "            i += 1\n",
        "        # This function will make sure each row sum to one.\n",
        "        self.transitions = normalize(self.transitions, norm='l1', axis=1)\n",
        "        return\n",
        "    \n",
        "    def evaluate(self, data):\n",
        "        '''\n",
        "        Calculate the average log probability of the character transitions.\n",
        "        Input:\n",
        "            data = list of strings to train on. should only be 1 at a time\n",
        "        Returns:\n",
        "            mean_logp = (float) average of the log2 probability of the transitions in the data.\n",
        "        '''\n",
        "        logp_sum = 0\n",
        "        count = 0\n",
        "        # Declare data as list with 1 entry\n",
        "        if type(data) is str:\n",
        "          data = [data]\n",
        "        for string in data:\n",
        "          s = self.tokenizer.encode(string, add_special_tokens=True)\n",
        "          # Evaluate tokenized string\n",
        "          for c1,c2 in zip(s[:-1], s[1:]):\n",
        "            p = self.transitions[c1, c2]\n",
        "            if p == 0:  # handle un-visited words\n",
        "              p = 0.000000001\n",
        "            logp_sum += np.log2(p)\n",
        "            count += 1\n",
        "        mean_logp = logp_sum / count\n",
        "        return mean_logp\n",
        "    \n",
        "    def generate(self, N=30, prompt=''):\n",
        "        '''\n",
        "        Generate a random string of length N starting from prompt.\n",
        "        Input:\n",
        "            N is the length of the string\n",
        "            promtp is the starting prompt\n",
        "        Output:\n",
        "            the random string of length N\n",
        "        '''\n",
        "        # Encode the prompt, adding it to token list\n",
        "        tokens = self.tokenizer.encode(prompt,add_special_tokens=True)\n",
        "        tokens = tokens[:-1]  # Remove stop token ('[SEP]').\n",
        "        for i in range(len(tokens), N):\n",
        "          prev_token = tokens[i-1]\n",
        "          # Get non-zero probabilities from sparse matrix.\n",
        "          probs = self.transitions[prev_token, :]\n",
        "          row = self.transitions[prev_token, :]\n",
        "          _, indices = row.nonzero()\n",
        "          # Check if indices is empty\n",
        "          if indices is None:\n",
        "            next_token = self.tokenizer.encode('the',add_special_tokens=False)\n",
        "          # Randomly sample from choices with non-zero probs.\n",
        "          else:\n",
        "            probs = row[0, indices].toarray().flatten()\n",
        "            next_token = np.random.choice(indices, p=probs)\n",
        "          tokens.append(next_token)\n",
        "          if tokens[-1] == 102:  \n",
        "            break #\n",
        "        text = self.tokenizer.decode(tokens, skip_special_tokens=True)\n",
        "        return text\n",
        "\n",
        "        '''''\n",
        "        In the generate method of the word model, np.random.choice(indices, p=probs) \n",
        "        will throw an error if indices is empty (None). This will occur if the model \n",
        "        has never seen a transition from the current token (which isn't surprising \n",
        "        unless you've trained on an english dictionary). Probably the best approach \n",
        "        would be to sample from the zero-th order model (the distribution of word frequency), \n",
        "        but for the HW you can just return a common word like \"the\" or \"covid\".\n",
        "        '''''\n",
        "\n",
        "    def tokenizedLen(self, string):\n",
        "        '''\n",
        "        Utility function to return the amount of valid\n",
        "        characters in a string (minus start and stop)\n",
        "        '''\n",
        "        return len(self.tokenizer.encode(string, add_special_tokens=False))\n"
      ],
      "execution_count": null,
      "outputs": []
    },
    {
      "cell_type": "markdown",
      "metadata": {
        "id": "x4aT8y6Inxm7"
      },
      "source": [
        "##Part1: Generating Random Tweets"
      ]
    },
    {
      "cell_type": "markdown",
      "metadata": {
        "id": "GWVydBMs8kbZ"
      },
      "source": [
        "The first order word model saw incredible improvement over the character model in terms of random tweet generation for the candidates.  As this is still a first order Markov model, the tweets are not always coherent, and often contain some noise learned from various weblinks and other symbols due to the simple tweet filtering that is in place.  The topics of discussion for each candidate's randomly generated tweets are often realistic, though (and often entertaining).  Biden's model generated slightly longer random tweets, although both models frequently generated tweets of greatly varying lengths.  The model was able to predict decently relevant twitter handles when it generated retweets for the candidate to post (see examples)."
      ]
    },
    {
      "cell_type": "markdown",
      "metadata": {
        "id": "MajUnCqP9Sq3"
      },
      "source": [
        "*Sample Tweets:*\n",
        "\n",
        "*(Note: longer tweets with more noise have been removed)*\n",
        "\n",
        "\n",
        "\n",
        "*   **TRUMP:**  the second amendment.\n",
        "\n",
        "*   **TRUMP:**  rt @ ivankatrump!\n",
        "\n",
        "*   **TRUMP:**  yes, and the great 2nd.\n",
        "\n",
        "*   **TRUMP:**  great again, russia, dzgr\n",
        "\n",
        "*   **TRUMP:**  rt @ cnn, a russian hoax : 30 years that the virus # obliterates cnn # paycheckprotectionprogram.\n",
        "\n",
        "*   **TRUMP:**  rt @ realdonaldtrump\n",
        "\n",
        "*   **TRUMP:**  rt @ foxnews : reader tip : https : / t. co / w …\n",
        "\n",
        "      ======= \n",
        "\n",
        "*   **BIDEN:**  it again.\n",
        "\n",
        "*   **BIDEN:**  happy # fourthof6ipvy\n",
        "\n",
        "*   **BIDEN:**  president trump seems like @ teamjoe\n",
        "\n",
        "*   **BIDEN:**  over.\n",
        "\n",
        "*   **BIDEN:**  dreamers\n",
        "\n",
        "*   **BIDEN:**  joebiden will finally receive the biden record.\n",
        "\n",
        "*   **BIDEN:**  president.\n",
        "\n"
      ]
    },
    {
      "cell_type": "code",
      "metadata": {
        "id": "HMY5S8K-QtjB"
      },
      "source": [
        "# Train models on full dataset\n",
        "TRUMP1 = word_ngram()\n",
        "TRUMP1.fit(lst_donald_trump_tweets)\n",
        "\n",
        "BIDEN1 = word_ngram()\n",
        "BIDEN1.fit(lst_joe_biden_tweets)"
      ],
      "execution_count": null,
      "outputs": []
    },
    {
      "cell_type": "code",
      "metadata": {
        "id": "w4fqYhmWn3tR"
      },
      "source": [
        "# Generate and print random tweets\n",
        "newTweetTrump = TRUMP1.generate(100)\n",
        "newTweetBiden = BIDEN1.generate(100)\n",
        "print(\"TRUMP: \", newTweetTrump)\n",
        "print(\"BIDEN: \", newTweetBiden)"
      ],
      "execution_count": null,
      "outputs": []
    },
    {
      "cell_type": "markdown",
      "metadata": {
        "id": "dcrBlZLZ0Hfy"
      },
      "source": [
        "##Part 2: Evaluating Real Tweets"
      ]
    },
    {
      "cell_type": "markdown",
      "metadata": {
        "id": "H2f_7KkW-UV0"
      },
      "source": [
        "This model also improved the accuracy in labeling tweets that both candidates actually posted.  It has an average AUROC of around 98.5% (see ROC graph at the bottom). These results were based off of around 2,000 training tweets per candidate, with around 1,000 held-out test tweets to evaluate the models on."
      ]
    },
    {
      "cell_type": "code",
      "metadata": {
        "id": "p4_OqHPu1pG3"
      },
      "source": [
        "import random\n",
        "from sklearn import metrics\n",
        "import matplotlib.pyplot as plt"
      ],
      "execution_count": null,
      "outputs": []
    },
    {
      "cell_type": "code",
      "metadata": {
        "id": "zjf3Z_Ts0LhW"
      },
      "source": [
        "# Permute data\n",
        "randomTrumpTweets = lst_donald_trump_tweets\n",
        "randomBidenTweets = lst_joe_biden_tweets\n",
        "random.shuffle(randomTrumpTweets)\n",
        "random.shuffle(randomBidenTweets)\n",
        "\n",
        "# Split data into training and testing sets\n",
        "dataSplit = 0.66\n",
        "\n",
        "trumpLen = int(len(randomTrumpTweets) * dataSplit)\n",
        "trumpTrain = randomTrumpTweets[:trumpLen]\n",
        "trumpTest = randomTrumpTweets[trumpLen:]\n",
        "\n",
        "bidenLen = int(len(randomBidenTweets) * dataSplit)\n",
        "bidenTrain = randomBidenTweets[:bidenLen]\n",
        "bidenTest = randomBidenTweets[bidenLen:]"
      ],
      "execution_count": null,
      "outputs": []
    },
    {
      "cell_type": "code",
      "metadata": {
        "id": "NbatRn2q1WU_"
      },
      "source": [
        "# Train models on training sets\n",
        "TRUMP2 = word_ngram()\n",
        "TRUMP2.fit(trumpTrain)\n",
        "\n",
        "BIDEN2 = word_ngram()\n",
        "BIDEN2.fit(bidenTrain)"
      ],
      "execution_count": null,
      "outputs": []
    },
    {
      "cell_type": "code",
      "metadata": {
        "id": "3oU3YobC1ZFM"
      },
      "source": [
        "# Evaluate Trump's tweets using both models\n",
        "trumpTestTRUMP = np.zeros((len(trumpTest)), dtype=float)\n",
        "trumpTestBIDEN = np.zeros((len(trumpTest)), dtype=float)\n",
        "for i in range(len(trumpTest)):\n",
        "  n = TRUMP2.tokenizedLen(trumpTest[i])\n",
        "  trumpTestTRUMP[i] = TRUMP2.evaluate(trumpTest[i]) * n\n",
        "  trumpTestBIDEN[i] = BIDEN2.evaluate(trumpTest[i]) * n\n",
        "\n",
        "# Evaluate Biden's tweets using both models\n",
        "bidenTestTRUMP = np.zeros((len(bidenTest)), dtype=float)\n",
        "bidenTestBIDEN = np.zeros((len(bidenTest)), dtype=float)\n",
        "for i in range(len(bidenTest)):\n",
        "  n = BIDEN2.tokenizedLen(bidenTest[i])\n",
        "  bidenTestTRUMP[i] = TRUMP2.evaluate(bidenTest[i]) * n\n",
        "  bidenTestBIDEN[i] = BIDEN2.evaluate(bidenTest[i]) * n"
      ],
      "execution_count": null,
      "outputs": []
    },
    {
      "cell_type": "code",
      "metadata": {
        "id": "TwvrjMZF1aih"
      },
      "source": [
        "def bayesProb(trumpLogP, bidenLogP):\n",
        "  '''\n",
        "  This utility function applies the bayes rule to the\n",
        "  log probabilities generated from the 'evaluate' function.\n",
        "  Input:\n",
        "      trumpLogP is the (non-mean) log prob from TRUMP2.evaluate\n",
        "      bidenLogP is the (non-mean) log prob from BIDEN2.evaluate\n",
        "  Output:\n",
        "      Bayes probability that **Biden** posted the given tweet\n",
        "  '''\n",
        "  output = 1 + 2**(trumpLogP - bidenLogP)\n",
        "  output = 1 / output\n",
        "  return output"
      ],
      "execution_count": null,
      "outputs": []
    },
    {
      "cell_type": "code",
      "metadata": {
        "id": "7jpnT6bf1ccM"
      },
      "source": [
        "# Build probability matrix for Biden's tweets\n",
        "bidenTestProbs = np.zeros((len(bidenTest)))\n",
        "for i in range(len(bidenTest)):\n",
        "  bidenTestProbs[i] = bayesProb(bidenTestTRUMP[i], bidenTestBIDEN[i])\n",
        "\n",
        "# Build probability matrix for Trump's tweets\n",
        "trumpTestProbs = np.zeros((len(trumpTest)))\n",
        "for i in range(len(trumpTest)):\n",
        "  trumpTestProbs[i] = bayesProb(trumpTestTRUMP[i], trumpTestBIDEN[i])"
      ],
      "execution_count": null,
      "outputs": []
    },
    {
      "cell_type": "code",
      "metadata": {
        "id": "4JaeV8de1d1M",
        "outputId": "6a235250-da62-4d1b-e629-26bbe76b5524",
        "colab": {
          "base_uri": "https://localhost:8080/",
          "height": 312
        }
      },
      "source": [
        "# Create a list of all tweet probabilities and values\n",
        "y_true = np.concatenate((np.ones(len(bidenTest)), np.zeros(len(trumpTest))))\n",
        "y_scores = np.concatenate((bidenTestProbs, trumpTestProbs))\n",
        "\n",
        "# Plot the ROC for Biden's tweets\n",
        "fpr, tpr, thresholds = metrics.roc_curve(y_true, y_scores)\n",
        "plt.plot(fpr, tpr)\n",
        "plt.plot([0, 1], [0, 1], color='red', linestyle='--') # random guessing\n",
        "plt.xlim([0.0, 1.0])\n",
        "plt.ylim([0.0, 1.0])\n",
        "plt.xlabel(\"False Positive Rate\")\n",
        "plt.ylabel(\"True Positive Rate\")\n",
        "plt.title(\"Presidential Candidate Tweet Prediction ROC\")\n",
        "\n",
        "AUROC = metrics.roc_auc_score(y_true, y_scores)\n",
        "print(\"AUROC: \", AUROC)"
      ],
      "execution_count": null,
      "outputs": [
        {
          "output_type": "stream",
          "text": [
            "AUROC:  0.9849578388081313\n"
          ],
          "name": "stdout"
        },
        {
          "output_type": "display_data",
          "data": {
            "image/png": "[encoded data removed]",
            "text/plain": [
              "<Figure size 432x288 with 1 Axes>"
            ]
          },
          "metadata": {
            "tags": [],
            "needs_background": "light"
          }
        }
      ]
    },
    {
      "cell_type": "markdown",
      "metadata": {
        "id": "3KHOrNXL_Tyu"
      },
      "source": [
        "### Side Note"
      ]
    },
    {
      "cell_type": "markdown",
      "metadata": {
        "id": "coy-24_U_aGk"
      },
      "source": [
        "As per usual in machine learning, you learn the most from looking at the misclassified items.  The code below prints the tweets from each candidate the their respective models deemed unlikely to come from its author.  The tweets from Trump that his model misclassified tend to be typically longer, more gramatically correct sentences (or sentences that he retweeted from others).  The tweets that the Biden model misclassified tend to be shorter, more agressive, and fragmented."
      ]
    },
    {
      "cell_type": "markdown",
      "metadata": {
        "id": "7iu3LRZdAlcq"
      },
      "source": [
        "*Mislabeled Trump Tweets*\n",
        "\n",
        "*   RT @NationalMallNPS: In the wake of last night's demonstrations, there are numerous instances of vandalism to sites around the National Mal… **(Confidence: ~100%)**\n",
        "\n",
        "*   RT @senatemajldr: Small businesses, working families, and medical responders across this country have made it clear: They need help now.… **(Confidence: 99.99%)**\n",
        "\n",
        "*   “On February 19th there was a Democratic Debate, in Las Vegas. Three words weren’t said: Virus, CoronaVirus, or COVID19. NEVER came up!” @BretBaier **(Confidence: 99.99%)**"
      ]
    },
    {
      "cell_type": "markdown",
      "metadata": {
        "id": "ME8NW84JBTCi"
      },
      "source": [
        "*Mislabeled Trump Tweets*\n",
        "\n",
        "*   Thank you, Minnesota! https://t.co/BqKfvLOJDy **(Confidence: ~100%)**\n",
        "\n",
        "*   RT @HaleyARing: First day of action for @JoeBiden out in Buena Vista County!!! The humidity doesn’t stop #TeamJoe and @BuenaVistaDems !! **(Confidence: ~100%)**\n",
        "\n",
        "*   Thanks, Obama. https://t.co/kBXnvbJ9ND **(Confidence: ~100%)**\n"
      ]
    },
    {
      "cell_type": "code",
      "metadata": {
        "id": "5XGlwrpz_MCH"
      },
      "source": [
        "# Print tweets from Trump that sound like Biden\n",
        "for i in range(len(trumpTest)):\n",
        "  if trumpTestProbs[i] > 0.8:\n",
        "    # print(\"i: \", i)\n",
        "    print(trumpTest[i])\n",
        "    print(trumpTestProbs[i])\n",
        "    print(\"=====\")"
      ],
      "execution_count": null,
      "outputs": []
    },
    {
      "cell_type": "code",
      "metadata": {
        "id": "raH1ivKi93aF"
      },
      "source": [
        "# Print tweets from Biden that sound like Trump\n",
        "for i in range(len(bidenTest)):\n",
        "  if bidenTestProbs[i] < 0.2:\n",
        "    # print(\"i: \", i)\n",
        "    print(bidenTest[i])\n",
        "    print(bidenTestProbs[i])\n",
        "    print(\"=====\")"
      ],
      "execution_count": null,
      "outputs": []
    }
  ]
}